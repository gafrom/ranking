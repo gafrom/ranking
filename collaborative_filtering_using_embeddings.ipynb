{
 "cells": [
  {
   "cell_type": "markdown",
   "metadata": {},
   "source": [
    "Collaborative filtering using article embeddings\n",
    "=============\n",
    "<span style=\"color: lightsteelblue;\">Resulting embeddings are used in article recommendation task.</span>\n",
    "\n",
    "The goal of this notebook is to train a embedding space over articles from Russian online newspaper."
   ]
  },
  {
   "cell_type": "markdown",
   "metadata": {},
   "source": [
    "### Import dependencies"
   ]
  },
  {
   "cell_type": "code",
   "execution_count": 1,
   "metadata": {},
   "outputs": [],
   "source": [
    "# These are all the modules we'll be using later. Make sure you can import them\n",
    "# before proceeding further.\n",
    "%matplotlib inline\n",
    "from __future__ import print_function\n",
    "import collections\n",
    "import math\n",
    "import numpy as np\n",
    "import os\n",
    "import random\n",
    "import tensorflow as tf\n",
    "import zipfile\n",
    "from pathlib import Path\n",
    "import pickle\n",
    "from matplotlib import pylab\n",
    "from six.moves import range\n",
    "from six.moves.urllib.request import urlretrieve\n",
    "from sklearn.manifold import TSNE\n",
    "from IPython.display import clear_output\n",
    "import matplotlib.pyplot as plt\n",
    "\n",
    "import itertools\n",
    "import pandas as pd"
   ]
  },
  {
   "cell_type": "markdown",
   "metadata": {},
   "source": [
    "### Read data"
   ]
  },
  {
   "cell_type": "code",
   "execution_count": 2,
   "metadata": {},
   "outputs": [
    {
     "name": "stdout",
     "output_type": "stream",
     "text": [
      "Successes: 13048443\n",
      "Failures: 629\n"
     ]
    }
   ],
   "source": [
    "def read_data(folder):\n",
    "  data = collections.defaultdict(set)\n",
    "  num_lines = 0\n",
    "  num_errors = 0\n",
    "  data_files = os.listdir(folder)\n",
    "  for data_file in data_files:\n",
    "    with open(os.path.join(folder, data_file)) as f:\n",
    "      for line in f:\n",
    "        # logs are in the following format:\n",
    "        # \"/article_url 000000000114ssdfrfrf34f4r34\"\n",
    "        data_per_visit = line.rstrip().split(' ')\n",
    "\n",
    "        if len(data_per_visit) > 1:\n",
    "          num_lines += 1\n",
    "          data[data_per_visit[1]].add(data_per_visit[0])\n",
    "        else: num_errors += 1\n",
    "\n",
    "  print(f\"Successes: {num_lines}\")\n",
    "  print(f\"Failures: {num_errors}\")\n",
    "  return data, num_lines\n",
    "\n",
    "# We want to group all articles by user_ids\n",
    "# user_id => [articles_ids]\n",
    "articles_by_users, num_visits = read_data('./logs/clean')"
   ]
  },
  {
   "cell_type": "markdown",
   "metadata": {},
   "source": [
    "### Build features (tokenize articles)"
   ]
  },
  {
   "cell_type": "code",
   "execution_count": 3,
   "metadata": {},
   "outputs": [
    {
     "name": "stdout",
     "output_type": "stream",
     "text": [
      "Gross total visited 37080 articles by a total of 5406671 unique users in 13048443 visits.\n",
      "Take only users visiting from 3 to 50 articles.\n",
      "Net total visited 10636 articles by a total of 406557 unique users.\n"
     ]
    },
    {
     "data": {
      "image/png": "[encoded data removed]",
      "text/plain": [
       "<matplotlib.figure.Figure at 0x1168fde80>"
      ]
     },
     "metadata": {},
     "output_type": "display_data"
    },
    {
     "data": {
      "text/html": [
       "<div>\n",
       "<style scoped>\n",
       "    .dataframe tbody tr th:only-of-type {\n",
       "        vertical-align: middle;\n",
       "    }\n",
       "\n",
       "    .dataframe tbody tr th {\n",
       "        vertical-align: top;\n",
       "    }\n",
       "\n",
       "    .dataframe thead th {\n",
       "        text-align: right;\n",
       "    }\n",
       "</style>\n",
       "<table border=\"1\" class=\"dataframe\">\n",
       "  <thead>\n",
       "    <tr style=\"text-align: right;\">\n",
       "      <th></th>\n",
       "      <th>count</th>\n",
       "    </tr>\n",
       "  </thead>\n",
       "  <tbody>\n",
       "    <tr>\n",
       "      <th>count</th>\n",
       "      <td>406557.000000</td>\n",
       "    </tr>\n",
       "    <tr>\n",
       "      <th>mean</th>\n",
       "      <td>7.770283</td>\n",
       "    </tr>\n",
       "    <tr>\n",
       "      <th>std</th>\n",
       "      <td>5.097511</td>\n",
       "    </tr>\n",
       "    <tr>\n",
       "      <th>min</th>\n",
       "      <td>4.000000</td>\n",
       "    </tr>\n",
       "    <tr>\n",
       "      <th>25%</th>\n",
       "      <td>4.000000</td>\n",
       "    </tr>\n",
       "    <tr>\n",
       "      <th>50%</th>\n",
       "      <td>6.000000</td>\n",
       "    </tr>\n",
       "    <tr>\n",
       "      <th>75%</th>\n",
       "      <td>9.000000</td>\n",
       "    </tr>\n",
       "    <tr>\n",
       "      <th>max</th>\n",
       "      <td>49.000000</td>\n",
       "    </tr>\n",
       "  </tbody>\n",
       "</table>\n",
       "</div>"
      ],
      "text/plain": [
       "               count\n",
       "count  406557.000000\n",
       "mean        7.770283\n",
       "std         5.097511\n",
       "min         4.000000\n",
       "25%         4.000000\n",
       "50%         6.000000\n",
       "75%         9.000000\n",
       "max        49.000000"
      ]
     },
     "execution_count": 3,
     "metadata": {},
     "output_type": "execute_result"
    }
   ],
   "source": [
    "MIN_NUM_USER_VISITS = 3\n",
    "MAX_NUM_USER_VISITS = 50\n",
    "\n",
    "try: all_articles\n",
    "except NameError:\n",
    "  all_articles = set(article for user_articles in articles_by_users.values() for article in user_articles)\n",
    "  array = np.array([[article, user] for user in articles_by_users for article in articles_by_users[user]])\n",
    "  articles = pd.DataFrame(array, columns = ('url', 'user_id'))\n",
    "  num_articles = len(all_articles)\n",
    "\n",
    "print(f\"Gross total visited {num_articles} articles by a total of {len(articles_by_users)} unique users in {num_visits} visits.\")\n",
    "\n",
    "visits_by_users = [[len(articles_by_users[user]), user] for user in articles_by_users if MAX_NUM_USER_VISITS > len(articles_by_users[user]) > MIN_NUM_USER_VISITS]\n",
    "visits = pd.DataFrame(np.array(visits_by_users)[:, 0].astype(int), columns = ['count'])\n",
    "\n",
    "net_articles = {article for _, user in visits_by_users for article in articles_by_users[user]}\n",
    "print(f\"Take only users visiting from {MIN_NUM_USER_VISITS} to {MAX_NUM_USER_VISITS} articles.\")\n",
    "print(f\"Net total visited {len(net_articles)} articles by a total of {len(visits_by_users)} unique users.\")\n",
    "\n",
    "# visualization\n",
    "plt.figure().set_size_inches(15, 8)\n",
    "\n",
    "plt.subplot(211)\n",
    "plt.xlabel('Number of articles visited')\n",
    "plt.ylabel('Users')\n",
    "plt.hist(visits['count'], bins = MAX_NUM_USER_VISITS - MIN_NUM_USER_VISITS - 1)\n",
    "plt.show()\n",
    "\n",
    "visits.describe()"
   ]
  },
  {
   "cell_type": "markdown",
   "metadata": {},
   "source": [
    "### Defining batch"
   ]
  },
  {
   "cell_type": "code",
   "execution_count": null,
   "metadata": {
    "collapsed": true
   },
   "outputs": [],
   "source": [
    "def batches(data, batch_size, sum_size = 3):\n",
    "  for user_data in len(data):\n",
    "    if len(user_data) < sum_size * 2: continue\n",
    "  \n",
    "    indices = np.array(range(len(user_data)))\n",
    "    labels_indicies = np.random.choice(indicies, num_size, replace=False)\n",
    "    x_indicies = indicies.delete(labels_indicies)\n",
    "    \n",
    "    user_labels = user_data[label_inds]\n",
    "\n",
    "    for x in itertools.combinations(x_indicies, sum_size):\n",
    "      yield x, user_labels"
   ]
  },
  {
   "cell_type": "markdown",
   "metadata": {},
   "source": [
    "### Defining neural network graph"
   ]
  },
  {
   "cell_type": "code",
   "execution_count": null,
   "metadata": {
    "collapsed": true
   },
   "outputs": [],
   "source": [
    "batch_size = 128\n",
    "embedding_size = 128 # Dimension of the embedding vector.\n",
    "window_size = 2 # How many articles to consider.\n",
    "# We pick a random validation set to sample nearest neighbors. here we limit the\n",
    "# validation samples to the words that have a low numeric ID, which by\n",
    "# construction are also the most frequent. \n",
    "valid_size = 16 # Random set of words to evaluate similarity on.\n",
    "valid_window = 100 # Only pick dev samples in the head of the distribution.\n",
    "valid_examples = np.array(random.sample(range(15, valid_window), valid_size))\n",
    "num_sampled = 64 # Number of negative examples to sample.\n",
    "\n",
    "graph = tf.Graph()\n",
    "\n",
    "with graph.as_default(), tf.device('/cpu:0'):\n",
    "\n",
    "  # Input data.\n",
    "  train_dataset = tf.placeholder(tf.int32, shape=[batch_size, 2 * window_size])\n",
    "  train_labels = tf.placeholder(tf.int32, shape=[batch_size, 1])\n",
    "  valid_dataset = tf.constant(valid_examples, dtype=tf.int32)\n",
    "\n",
    "  # Variables.\n",
    "  embeddings = tf.Variable(\n",
    "    tf.random_uniform([vocabulary_size, embedding_size], -1.0, 1.0), name='embeddings')\n",
    "  softmax_weights = tf.Variable(\n",
    "    tf.truncated_normal([vocabulary_size, embedding_size],\n",
    "                         stddev=1.0 / math.sqrt(embedding_size)))\n",
    "  softmax_biases = tf.Variable(tf.zeros([vocabulary_size]))\n",
    "\n",
    "  # Model.\n",
    "  # Look up embeddings for inputs.\n",
    "  embed = tf.nn.embedding_lookup(embeddings, train_dataset)\n",
    "  print(embed.shape)\n",
    "  # Compute the softmax loss, using a sample of the negative labels each time.\n",
    "  loss = tf.reduce_mean(\n",
    "    tf.nn.sampled_softmax_loss(weights=softmax_weights, biases=softmax_biases,\n",
    "                               inputs=tf.reduce_sum(embed, 1),\n",
    "                               labels=train_labels, num_sampled=num_sampled, num_classes=vocabulary_size))\n",
    "\n",
    "  # Optimizer.\n",
    "  # Note: The optimizer will optimize the softmax_weights AND the embeddings.\n",
    "  # This is because the embeddings are defined as a variable quantity and the\n",
    "  # optimizer's `minimize` method will by default modify all variable quantities \n",
    "  # that contribute to the tensor it is passed.\n",
    "  # See docs on `tf.train.Optimizer.minimize()` for more details.\n",
    "  optimizer = tf.train.AdagradOptimizer(1.0).minimize(loss)\n",
    "\n",
    "  # Compute the similarity between minibatch examples and all embeddings.\n",
    "  # We use the cosine distance:\n",
    "  norm = tf.sqrt(tf.reduce_sum(tf.square(embeddings), 1, keep_dims=True))\n",
    "  normalized_embeddings = embeddings / norm\n",
    "  valid_embeddings = tf.nn.embedding_lookup(\n",
    "    normalized_embeddings, valid_dataset)\n",
    "  similarity = tf.matmul(valid_embeddings, tf.transpose(normalized_embeddings))\n",
    "\n",
    "  # Storing trained model to the disk\n",
    "  saver = tf.train.Saver([embeddings])"
   ]
  },
  {
   "cell_type": "markdown",
   "metadata": {},
   "source": [
    "### Training"
   ]
  },
  {
   "cell_type": "code",
   "execution_count": null,
   "metadata": {
    "collapsed": true
   },
   "outputs": [],
   "source": [
    "num_steps = 150001\n",
    "\n",
    "with tf.Session(graph=graph) as session:\n",
    "  tf.global_variables_initializer().run()\n",
    "  print('Initialized')\n",
    "  average_loss = 0\n",
    "  for step in range(num_steps):\n",
    "    batch_data, batch_labels = generate_CBOW_batch(batch_size, window_size)\n",
    "    feed_dict = {train_dataset : batch_data, train_labels : batch_labels}\n",
    "    _, l, embs = session.run([optimizer, loss, embeddings], feed_dict=feed_dict)\n",
    "    average_loss += l\n",
    "\n",
    "    # note that this is expensive (~20% slowdown if computed every 500 steps)\n",
    "    if step % 1000 == 0:\n",
    "      if step > 0:\n",
    "        average_loss = average_loss / 1000\n",
    "      # The average loss is an estimate of the loss over the last 1000 batches.\n",
    "      log = 'Average loss at step %d: %f' % (step, average_loss)\n",
    "      average_loss = 0\n",
    "\n",
    "      sim = similarity.eval()\n",
    "\n",
    "      clear_output(wait=True)\n",
    "      log = 'Initialized\\n' + log\n",
    "\n",
    "      for i in range(valid_size):\n",
    "        valid_word = reverse_dictionary[valid_examples[i]]\n",
    "        top_k = 8 # number of nearest neighbors\n",
    "        nearest = (-sim[i, :]).argsort()[1:top_k+1]\n",
    "        log = log + '\\nNearest to %s:' % valid_word\n",
    "        for k in range(top_k):\n",
    "          close_word = reverse_dictionary[nearest[k]]\n",
    "          log = '%s %s,' % (log, close_word)\n",
    "      print(log)\n",
    "  final_embeddings = normalized_embeddings.eval()\n",
    "\n",
    "  # save what have been learned\n",
    "  saver.save(session, STORAGE_PATH)"
   ]
  },
  {
   "cell_type": "markdown",
   "metadata": {},
   "source": [
    "### Validation"
   ]
  },
  {
   "cell_type": "code",
   "execution_count": null,
   "metadata": {
    "collapsed": true
   },
   "outputs": [],
   "source": [
    "num_points = 400\n",
    "\n",
    "tsne = TSNE(perplexity=30, n_components=2, init='pca', n_iter=5000)\n",
    "two_d_embeddings = tsne.fit_transform(final_embeddings[1:num_points+1, :])\n",
    "\n",
    "def plot(embeddings, labels):\n",
    "  assert embeddings.shape[0] >= len(labels), 'More labels than embeddings'\n",
    "  pylab.figure(figsize=(15,15))  # in inches\n",
    "  for i, label in enumerate(labels):\n",
    "    x, y = embeddings[i,:]\n",
    "    pylab.scatter(x, y)\n",
    "    pylab.annotate(label, xy=(x, y), xytext=(5, 2), textcoords='offset points',\n",
    "                   ha='right', va='bottom')\n",
    "  pylab.show()\n",
    "\n",
    "words = [reverse_dictionary[i] for i in range(1, num_points+1)]\n",
    "plot(two_d_embeddings, words)"
   ]
  }
 ],
 "metadata": {
  "kernelspec": {
   "display_name": "Python 3",
   "language": "python",
   "name": "python3"
  },
  "language_info": {
   "codemirror_mode": {
    "name": "ipython",
    "version": 3
   },
   "file_extension": ".py",
   "mimetype": "text/x-python",
   "name": "python",
   "nbconvert_exporter": "python",
   "pygments_lexer": "ipython3",
   "version": "3.6.1"
  }
 },
 "nbformat": 4,
 "nbformat_minor": 2
}
